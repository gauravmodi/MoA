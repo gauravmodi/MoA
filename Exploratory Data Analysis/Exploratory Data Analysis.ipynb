{
 "cells": [
  {
   "cell_type": "code",
   "execution_count": 1,
   "metadata": {},
   "outputs": [
    {
     "data": {
      "text/plain": [
       "<matplotlib.figure.Figure at 0xc565518>"
      ]
     },
     "execution_count": 1,
     "metadata": {},
     "output_type": "execute_result"
    },
    {
     "data": {
      "text/plain": [
       "<matplotlib.figure.Figure at 0xc565518>"
      ]
     },
     "metadata": {},
     "output_type": "display_data"
    }
   ],
   "source": [
    "import os\n",
    "import pandas as pd\n",
    "from pandas import DataFrame, Series, read_excel, read_csv\n",
    "import numpy as np\n",
    "import matplotlib.pyplot as plt\n",
    "import seaborn as sns\n",
    "\n",
    "color = sns.color_palette()\n",
    "%matplotlib inline\n",
    "plt.figure(figsize=(8,6))\n",
    "\n",
    "# pd.options.mode.chained_assignment = None\n",
    "# pd.options.display.max_rows = 65"
   ]
  },
  {
   "cell_type": "markdown",
   "metadata": {},
   "source": [
    "<hr>"
   ]
  },
  {
   "cell_type": "markdown",
   "metadata": {},
   "source": [
    "# Reading data"
   ]
  },
  {
   "cell_type": "code",
   "execution_count": 3,
   "metadata": {
    "collapsed": true
   },
   "outputs": [],
   "source": [
    "df = read_excel(f + 'usage1.xlsx')"
   ]
  },
  {
   "cell_type": "code",
   "execution_count": 2,
   "metadata": {
    "collapsed": true
   },
   "outputs": [],
   "source": [
    "# saving data folder path as variable\n",
    "f = \"../../Fall 2017 Exploratory Case/\""
   ]
  },
  {
   "cell_type": "code",
   "execution_count": 47,
   "metadata": {
    "scrolled": false
   },
   "outputs": [
    {
     "data": {
      "text/html": [
       "<div>\n",
       "<table border=\"1\" class=\"dataframe\">\n",
       "  <thead>\n",
       "    <tr style=\"text-align: right;\">\n",
       "      <th></th>\n",
       "      <th>0</th>\n",
       "    </tr>\n",
       "  </thead>\n",
       "  <tbody>\n",
       "    <tr>\n",
       "      <th>0</th>\n",
       "      <td>Check Results - Exploratory-DailyTotals.xlsx</td>\n",
       "    </tr>\n",
       "    <tr>\n",
       "      <th>1</th>\n",
       "      <td>Fall 2017 Exploratory Case Study Data Definiti...</td>\n",
       "    </tr>\n",
       "    <tr>\n",
       "      <th>2</th>\n",
       "      <td>RidesTable.csv</td>\n",
       "    </tr>\n",
       "    <tr>\n",
       "      <th>3</th>\n",
       "      <td>TicketCategories.csv</td>\n",
       "    </tr>\n",
       "    <tr>\n",
       "      <th>4</th>\n",
       "      <td>Usage1.xlsx</td>\n",
       "    </tr>\n",
       "    <tr>\n",
       "      <th>5</th>\n",
       "      <td>Usage10.xlsx</td>\n",
       "    </tr>\n",
       "    <tr>\n",
       "      <th>6</th>\n",
       "      <td>Usage11.xlsx</td>\n",
       "    </tr>\n",
       "    <tr>\n",
       "      <th>7</th>\n",
       "      <td>Usage12.xlsx</td>\n",
       "    </tr>\n",
       "    <tr>\n",
       "      <th>8</th>\n",
       "      <td>Usage13.xlsx</td>\n",
       "    </tr>\n",
       "    <tr>\n",
       "      <th>9</th>\n",
       "      <td>Usage14.xlsx</td>\n",
       "    </tr>\n",
       "    <tr>\n",
       "      <th>10</th>\n",
       "      <td>Usage15.xlsx</td>\n",
       "    </tr>\n",
       "    <tr>\n",
       "      <th>11</th>\n",
       "      <td>Usage16.xlsx</td>\n",
       "    </tr>\n",
       "    <tr>\n",
       "      <th>12</th>\n",
       "      <td>Usage17.xlsx</td>\n",
       "    </tr>\n",
       "    <tr>\n",
       "      <th>13</th>\n",
       "      <td>Usage2.xlsx</td>\n",
       "    </tr>\n",
       "    <tr>\n",
       "      <th>14</th>\n",
       "      <td>Usage3.xlsx</td>\n",
       "    </tr>\n",
       "    <tr>\n",
       "      <th>15</th>\n",
       "      <td>Usage4.xlsx</td>\n",
       "    </tr>\n",
       "    <tr>\n",
       "      <th>16</th>\n",
       "      <td>Usage5.xlsx</td>\n",
       "    </tr>\n",
       "    <tr>\n",
       "      <th>17</th>\n",
       "      <td>Usage6.xlsx</td>\n",
       "    </tr>\n",
       "    <tr>\n",
       "      <th>18</th>\n",
       "      <td>Usage7.xlsx</td>\n",
       "    </tr>\n",
       "    <tr>\n",
       "      <th>19</th>\n",
       "      <td>Usage8.xlsx</td>\n",
       "    </tr>\n",
       "    <tr>\n",
       "      <th>20</th>\n",
       "      <td>Usage9.xlsx</td>\n",
       "    </tr>\n",
       "    <tr>\n",
       "      <th>21</th>\n",
       "      <td>~$ll 2017 Exploratory Case Study Data Definiti...</td>\n",
       "    </tr>\n",
       "  </tbody>\n",
       "</table>\n",
       "</div>"
      ],
      "text/plain": [
       "                                                    0\n",
       "0        Check Results - Exploratory-DailyTotals.xlsx\n",
       "1   Fall 2017 Exploratory Case Study Data Definiti...\n",
       "2                                      RidesTable.csv\n",
       "3                                TicketCategories.csv\n",
       "4                                         Usage1.xlsx\n",
       "5                                        Usage10.xlsx\n",
       "6                                        Usage11.xlsx\n",
       "7                                        Usage12.xlsx\n",
       "8                                        Usage13.xlsx\n",
       "9                                        Usage14.xlsx\n",
       "10                                       Usage15.xlsx\n",
       "11                                       Usage16.xlsx\n",
       "12                                       Usage17.xlsx\n",
       "13                                        Usage2.xlsx\n",
       "14                                        Usage3.xlsx\n",
       "15                                        Usage4.xlsx\n",
       "16                                        Usage5.xlsx\n",
       "17                                        Usage6.xlsx\n",
       "18                                        Usage7.xlsx\n",
       "19                                        Usage8.xlsx\n",
       "20                                        Usage9.xlsx\n",
       "21  ~$ll 2017 Exploratory Case Study Data Definiti..."
      ]
     },
     "execution_count": 47,
     "metadata": {},
     "output_type": "execute_result"
    }
   ],
   "source": [
    "# listing all the files in data folders\n",
    "DataFrame(os.listdir(f))"
   ]
  },
  {
   "cell_type": "code",
   "execution_count": 90,
   "metadata": {},
   "outputs": [],
   "source": [
    "# reading Usage files in a dictionary\n",
    "usage = dict()\n",
    "for i in range(1, 18):\n",
    "    file_name = \"Usage\" + str(i) + \".xlsx\"\n",
    "    usage[i] = read_excel(f + file_name)"
   ]
  },
  {
   "cell_type": "code",
   "execution_count": 91,
   "metadata": {
    "collapsed": true
   },
   "outputs": [],
   "source": [
    "# Read other data files\n",
    "rides_table  = read_csv(f + \"RidesTable.csv\")\n",
    "ticket_categories  = read_csv(f + \"TicketCategories.csv\")\n",
    "daily_totals = read_excel(f+'Check Results - Exploratory-DailyTotals.xlsx')"
   ]
  },
  {
   "cell_type": "markdown",
   "metadata": {},
   "source": [
    "<hr>"
   ]
  },
  {
   "cell_type": "markdown",
   "metadata": {},
   "source": [
    "# Data Preview"
   ]
  },
  {
   "cell_type": "markdown",
   "metadata": {},
   "source": [
    "### Rides Information Table"
   ]
  },
  {
   "cell_type": "code",
   "execution_count": 80,
   "metadata": {
    "scrolled": true
   },
   "outputs": [
    {
     "data": {
      "text/html": [
       "<div>\n",
       "<table border=\"1\" class=\"dataframe\">\n",
       "  <thead>\n",
       "    <tr style=\"text-align: right;\">\n",
       "      <th></th>\n",
       "      <th>RideID</th>\n",
       "      <th>Name</th>\n",
       "      <th>Points</th>\n",
       "      <th>Type</th>\n",
       "      <th>LongName</th>\n",
       "    </tr>\n",
       "  </thead>\n",
       "  <tbody>\n",
       "    <tr>\n",
       "      <th>0</th>\n",
       "      <td>3</td>\n",
       "      <td>Avatar</td>\n",
       "      <td>6</td>\n",
       "      <td>Rides</td>\n",
       "      <td>Avatar Airbender</td>\n",
       "    </tr>\n",
       "    <tr>\n",
       "      <th>1</th>\n",
       "      <td>4</td>\n",
       "      <td>Azul</td>\n",
       "      <td>3</td>\n",
       "      <td>Rides</td>\n",
       "      <td>La Aventura de Azul</td>\n",
       "    </tr>\n",
       "    <tr>\n",
       "      <th>2</th>\n",
       "      <td>5</td>\n",
       "      <td>Balloon</td>\n",
       "      <td>3</td>\n",
       "      <td>Rides</td>\n",
       "      <td>Balloon Race</td>\n",
       "    </tr>\n",
       "    <tr>\n",
       "      <th>3</th>\n",
       "      <td>7</td>\n",
       "      <td>BigRigs</td>\n",
       "      <td>3</td>\n",
       "      <td>Rides</td>\n",
       "      <td>Big Rigs</td>\n",
       "    </tr>\n",
       "    <tr>\n",
       "      <th>4</th>\n",
       "      <td>8</td>\n",
       "      <td>Blasters</td>\n",
       "      <td>6</td>\n",
       "      <td>Rides</td>\n",
       "      <td>Ghostblasters</td>\n",
       "    </tr>\n",
       "  </tbody>\n",
       "</table>\n",
       "</div>"
      ],
      "text/plain": [
       "   RideID      Name  Points   Type             LongName\n",
       "0       3    Avatar       6  Rides     Avatar Airbender\n",
       "1       4      Azul       3  Rides  La Aventura de Azul\n",
       "2       5   Balloon       3  Rides         Balloon Race\n",
       "3       7   BigRigs       3  Rides             Big Rigs\n",
       "4       8  Blasters       6  Rides        Ghostblasters"
      ]
     },
     "execution_count": 80,
     "metadata": {},
     "output_type": "execute_result"
    }
   ],
   "source": [
    "rides_table.head()"
   ]
  },
  {
   "cell_type": "markdown",
   "metadata": {},
   "source": [
    "### Daily Ridership"
   ]
  },
  {
   "cell_type": "code",
   "execution_count": 79,
   "metadata": {
    "scrolled": false
   },
   "outputs": [
    {
     "data": {
      "text/html": [
       "<div>\n",
       "<table border=\"1\" class=\"dataframe\">\n",
       "  <thead>\n",
       "    <tr style=\"text-align: right;\">\n",
       "      <th></th>\n",
       "      <th>Date</th>\n",
       "      <th>Total</th>\n",
       "    </tr>\n",
       "  </thead>\n",
       "  <tbody>\n",
       "    <tr>\n",
       "      <th>0</th>\n",
       "      <td>2015-10-01</td>\n",
       "      <td>3789</td>\n",
       "    </tr>\n",
       "    <tr>\n",
       "      <th>1</th>\n",
       "      <td>2015-10-02</td>\n",
       "      <td>12586</td>\n",
       "    </tr>\n",
       "    <tr>\n",
       "      <th>2</th>\n",
       "      <td>2015-10-03</td>\n",
       "      <td>29986</td>\n",
       "    </tr>\n",
       "    <tr>\n",
       "      <th>3</th>\n",
       "      <td>2015-10-04</td>\n",
       "      <td>16240</td>\n",
       "    </tr>\n",
       "    <tr>\n",
       "      <th>4</th>\n",
       "      <td>2015-10-05</td>\n",
       "      <td>6444</td>\n",
       "    </tr>\n",
       "  </tbody>\n",
       "</table>\n",
       "</div>"
      ],
      "text/plain": [
       "        Date  Total\n",
       "0 2015-10-01   3789\n",
       "1 2015-10-02  12586\n",
       "2 2015-10-03  29986\n",
       "3 2015-10-04  16240\n",
       "4 2015-10-05   6444"
      ]
     },
     "execution_count": 79,
     "metadata": {},
     "output_type": "execute_result"
    }
   ],
   "source": [
    "daily_totals.head()"
   ]
  },
  {
   "cell_type": "markdown",
   "metadata": {},
   "source": [
    "### Ticket Categories"
   ]
  },
  {
   "cell_type": "code",
   "execution_count": 126,
   "metadata": {},
   "outputs": [
    {
     "data": {
      "text/html": [
       "<div>\n",
       "<table border=\"1\" class=\"dataframe\">\n",
       "  <thead>\n",
       "    <tr style=\"text-align: right;\">\n",
       "      <th></th>\n",
       "      <th>AccessCodeID</th>\n",
       "      <th>AccessCode</th>\n",
       "      <th>Name</th>\n",
       "      <th>Type</th>\n",
       "      <th>Category</th>\n",
       "      <th>Subcategory</th>\n",
       "    </tr>\n",
       "  </thead>\n",
       "  <tbody>\n",
       "    <tr>\n",
       "      <th>0</th>\n",
       "      <td>108455</td>\n",
       "      <td>141</td>\n",
       "      <td>Old Points Ticket Access Code</td>\n",
       "      <td>Old</td>\n",
       "      <td>None</td>\n",
       "      <td>None</td>\n",
       "    </tr>\n",
       "    <tr>\n",
       "      <th>1</th>\n",
       "      <td>108457</td>\n",
       "      <td>10020</td>\n",
       "      <td>Old 20 Point Access Code</td>\n",
       "      <td>Old</td>\n",
       "      <td>None</td>\n",
       "      <td>None</td>\n",
       "    </tr>\n",
       "    <tr>\n",
       "      <th>2</th>\n",
       "      <td>108522</td>\n",
       "      <td>50101</td>\n",
       "      <td>All Day Unlimited Use</td>\n",
       "      <td>WB</td>\n",
       "      <td>Regular POS Sales</td>\n",
       "      <td>Regular WB</td>\n",
       "    </tr>\n",
       "    <tr>\n",
       "      <th>3</th>\n",
       "      <td>2373083</td>\n",
       "      <td>50102</td>\n",
       "      <td>2-Day Unlimited Use</td>\n",
       "      <td>WB</td>\n",
       "      <td>Regular POS Sales</td>\n",
       "      <td>WB + Attraction</td>\n",
       "    </tr>\n",
       "    <tr>\n",
       "      <th>4</th>\n",
       "      <td>3202875</td>\n",
       "      <td>50103</td>\n",
       "      <td>2-Day Unlimited Use Online</td>\n",
       "      <td>WB</td>\n",
       "      <td>Online Sales</td>\n",
       "      <td>WB + Attraction</td>\n",
       "    </tr>\n",
       "  </tbody>\n",
       "</table>\n",
       "</div>"
      ],
      "text/plain": [
       "   AccessCodeID  AccessCode                            Name          Type  \\\n",
       "0        108455         141  Old Points Ticket Access Code   Old            \n",
       "1        108457       10020  Old 20 Point Access Code        Old            \n",
       "2        108522       50101  All Day Unlimited Use           WB             \n",
       "3       2373083       50102  2-Day Unlimited Use             WB             \n",
       "4       3202875       50103  2-Day Unlimited Use Online      WB             \n",
       "\n",
       "            Category      Subcategory  \n",
       "0               None             None  \n",
       "1               None             None  \n",
       "2  Regular POS Sales       Regular WB  \n",
       "3  Regular POS Sales  WB + Attraction  \n",
       "4       Online Sales  WB + Attraction  "
      ]
     },
     "execution_count": 126,
     "metadata": {},
     "output_type": "execute_result"
    }
   ],
   "source": [
    "ticket_categories.head()"
   ]
  },
  {
   "cell_type": "markdown",
   "metadata": {},
   "source": [
    "## Usage Tables"
   ]
  },
  {
   "cell_type": "code",
   "execution_count": 106,
   "metadata": {
    "scrolled": true
   },
   "outputs": [
    {
     "data": {
      "text/html": [
       "<div>\n",
       "<table border=\"1\" class=\"dataframe\">\n",
       "  <thead>\n",
       "    <tr style=\"text-align: right;\">\n",
       "      <th></th>\n",
       "      <th>column_name</th>\n",
       "      <th>dtype</th>\n",
       "    </tr>\n",
       "  </thead>\n",
       "  <tbody>\n",
       "    <tr>\n",
       "      <th>0</th>\n",
       "      <td>usageid</td>\n",
       "      <td>int64</td>\n",
       "    </tr>\n",
       "    <tr>\n",
       "      <th>1</th>\n",
       "      <td>usetime</td>\n",
       "      <td>datetime64[ns]</td>\n",
       "    </tr>\n",
       "    <tr>\n",
       "      <th>2</th>\n",
       "      <td>accesscode</td>\n",
       "      <td>int64</td>\n",
       "    </tr>\n",
       "    <tr>\n",
       "      <th>3</th>\n",
       "      <td>visualid</td>\n",
       "      <td>int64</td>\n",
       "    </tr>\n",
       "    <tr>\n",
       "      <th>4</th>\n",
       "      <td>rideid</td>\n",
       "      <td>int64</td>\n",
       "    </tr>\n",
       "    <tr>\n",
       "      <th>5</th>\n",
       "      <td>qty</td>\n",
       "      <td>int64</td>\n",
       "    </tr>\n",
       "    <tr>\n",
       "      <th>6</th>\n",
       "      <td>useno</td>\n",
       "      <td>int64</td>\n",
       "    </tr>\n",
       "  </tbody>\n",
       "</table>\n",
       "</div>"
      ],
      "text/plain": [
       "  column_name           dtype\n",
       "0     usageid           int64\n",
       "1     usetime  datetime64[ns]\n",
       "2  accesscode           int64\n",
       "3    visualid           int64\n",
       "4      rideid           int64\n",
       "5         qty           int64\n",
       "6       useno           int64"
      ]
     },
     "execution_count": 106,
     "metadata": {},
     "output_type": "execute_result"
    }
   ],
   "source": [
    "dtype_df = usage[1].dtypes.reset_index()\n",
    "dtype_df.columns = ['column_name', 'dtype']\n",
    "dtype_df"
   ]
  },
  {
   "cell_type": "markdown",
   "metadata": {},
   "source": [
    "### Combining all Usage files into one "
   ]
  },
  {
   "cell_type": "code",
   "execution_count": 112,
   "metadata": {},
   "outputs": [],
   "source": [
    "usage_df_list = list()\n",
    "for i in range(1, 18):\n",
    "    usage_df_list.append(usage[i])\n",
    "    \n",
    "usage_combine = pd.concat(usage_df_list)"
   ]
  },
  {
   "cell_type": "code",
   "execution_count": 168,
   "metadata": {
    "collapsed": true
   },
   "outputs": [],
   "source": [
    "#Add month and year column\n",
    "usage_combine['month'] = usage_combine.usetime.dt.month\n",
    "usage_combine['year'] = usage_combine.usetime.dt.year\n",
    "usage_combine['day_of_week'] = usage_combine.usetime.dt.dayofweek\n",
    "usage_combine['day_of_week'] = usage_combine['day_of_week'] + 1\n",
    "usage_combine['hour'] = usage_combine.usetime.dt.hour"
   ]
  },
  {
   "cell_type": "code",
   "execution_count": 125,
   "metadata": {
    "scrolled": true
   },
   "outputs": [
    {
     "name": "stdout",
     "output_type": "stream",
     "text": [
      "Combined Usage file: 16367112 Rows and 7 columns\n"
     ]
    }
   ],
   "source": [
    "# Final size of all usage files combined\n",
    "print 'Combined Usage file: {0} Rows and {1} columns'.format(usage_combine.shape[0], usage_combine.shape[1])"
   ]
  },
  {
   "cell_type": "markdown",
   "metadata": {},
   "source": [
    "## Checking for null values"
   ]
  },
  {
   "cell_type": "code",
   "execution_count": 121,
   "metadata": {
    "scrolled": true
   },
   "outputs": [
    {
     "name": "stdout",
     "output_type": "stream",
     "text": [
      "        index  0\n",
      "0     usageid  0\n",
      "1     usetime  0\n",
      "2  accesscode  0\n",
      "3    visualid  0\n",
      "4      rideid  0\n",
      "5         qty  0\n",
      "6       useno  0\n"
     ]
    }
   ],
   "source": [
    "print usage_combine.isnull().sum(axis=0).reset_index()"
   ]
  },
  {
   "cell_type": "markdown",
   "metadata": {},
   "source": [
    "<b><font color='blue'>No Null values found</b></font>"
   ]
  },
  {
   "cell_type": "markdown",
   "metadata": {},
   "source": [
    "# EDA"
   ]
  },
  {
   "cell_type": "code",
   "execution_count": 169,
   "metadata": {
    "scrolled": false
   },
   "outputs": [
    {
     "data": {
      "text/html": [
       "<div>\n",
       "<table border=\"1\" class=\"dataframe\">\n",
       "  <thead>\n",
       "    <tr style=\"text-align: right;\">\n",
       "      <th></th>\n",
       "      <th>usageid</th>\n",
       "      <th>usetime</th>\n",
       "      <th>accesscode</th>\n",
       "      <th>visualid</th>\n",
       "      <th>rideid</th>\n",
       "      <th>qty</th>\n",
       "      <th>useno</th>\n",
       "      <th>month</th>\n",
       "      <th>year</th>\n",
       "      <th>day_of_week</th>\n",
       "      <th>hour</th>\n",
       "    </tr>\n",
       "  </thead>\n",
       "  <tbody>\n",
       "    <tr>\n",
       "      <th>0</th>\n",
       "      <td>95408610</td>\n",
       "      <td>2017-08-15 09:55:08.530</td>\n",
       "      <td>53001</td>\n",
       "      <td>53001115784290</td>\n",
       "      <td>25</td>\n",
       "      <td>1</td>\n",
       "      <td>1</td>\n",
       "      <td>8</td>\n",
       "      <td>2017</td>\n",
       "      <td>2</td>\n",
       "      <td>9</td>\n",
       "    </tr>\n",
       "    <tr>\n",
       "      <th>1</th>\n",
       "      <td>95408611</td>\n",
       "      <td>2017-08-15 09:55:19.623</td>\n",
       "      <td>50501</td>\n",
       "      <td>50501031310395</td>\n",
       "      <td>27</td>\n",
       "      <td>1</td>\n",
       "      <td>1</td>\n",
       "      <td>8</td>\n",
       "      <td>2017</td>\n",
       "      <td>2</td>\n",
       "      <td>9</td>\n",
       "    </tr>\n",
       "    <tr>\n",
       "      <th>2</th>\n",
       "      <td>95408612</td>\n",
       "      <td>2017-08-15 09:55:19.967</td>\n",
       "      <td>50501</td>\n",
       "      <td>50501031310396</td>\n",
       "      <td>27</td>\n",
       "      <td>1</td>\n",
       "      <td>1</td>\n",
       "      <td>8</td>\n",
       "      <td>2017</td>\n",
       "      <td>2</td>\n",
       "      <td>9</td>\n",
       "    </tr>\n",
       "    <tr>\n",
       "      <th>3</th>\n",
       "      <td>95408613</td>\n",
       "      <td>2017-08-15 09:55:26.297</td>\n",
       "      <td>53001</td>\n",
       "      <td>53001115784272</td>\n",
       "      <td>25</td>\n",
       "      <td>1</td>\n",
       "      <td>1</td>\n",
       "      <td>8</td>\n",
       "      <td>2017</td>\n",
       "      <td>2</td>\n",
       "      <td>9</td>\n",
       "    </tr>\n",
       "    <tr>\n",
       "      <th>4</th>\n",
       "      <td>95408614</td>\n",
       "      <td>2017-08-15 09:55:28.187</td>\n",
       "      <td>53001</td>\n",
       "      <td>53001115784289</td>\n",
       "      <td>25</td>\n",
       "      <td>1</td>\n",
       "      <td>1</td>\n",
       "      <td>8</td>\n",
       "      <td>2017</td>\n",
       "      <td>2</td>\n",
       "      <td>9</td>\n",
       "    </tr>\n",
       "  </tbody>\n",
       "</table>\n",
       "</div>"
      ],
      "text/plain": [
       "    usageid                 usetime  accesscode        visualid  rideid  qty  \\\n",
       "0  95408610 2017-08-15 09:55:08.530       53001  53001115784290      25    1   \n",
       "1  95408611 2017-08-15 09:55:19.623       50501  50501031310395      27    1   \n",
       "2  95408612 2017-08-15 09:55:19.967       50501  50501031310396      27    1   \n",
       "3  95408613 2017-08-15 09:55:26.297       53001  53001115784272      25    1   \n",
       "4  95408614 2017-08-15 09:55:28.187       53001  53001115784289      25    1   \n",
       "\n",
       "   useno  month  year  day_of_week  hour  \n",
       "0      1      8  2017            2     9  \n",
       "1      1      8  2017            2     9  \n",
       "2      1      8  2017            2     9  \n",
       "3      1      8  2017            2     9  \n",
       "4      1      8  2017            2     9  "
      ]
     },
     "execution_count": 169,
     "metadata": {},
     "output_type": "execute_result"
    }
   ],
   "source": [
    "usage_combine.head()"
   ]
  },
  {
   "cell_type": "markdown",
   "metadata": {},
   "source": [
    "<b>Year wise ridership</b>"
   ]
  },
  {
   "cell_type": "code",
   "execution_count": 194,
   "metadata": {
    "scrolled": false
   },
   "outputs": [
    {
     "data": {
      "image/png": "[encoded data removed]",
      "text/plain": [
       "<matplotlib.figure.Figure at 0x157aacf8>"
      ]
     },
     "metadata": {},
     "output_type": "display_data"
    }
   ],
   "source": [
    "year_ridership = usage_combine.usetime.dt.year.value_counts()\n",
    "plt.figure(figsize=(12,6))\n",
    "sns.barplot(year_ridership.index, year_ridership.values, alpha=0.8, color=color[4])\n",
    "# plt.xticks(rotation='vertical')\n",
    "plt.xlabel('Year', fontsize=13)\n",
    "plt.ylabel('Ridership', fontsize=13)\n",
    "plt.show()"
   ]
  },
  {
   "cell_type": "markdown",
   "metadata": {},
   "source": [
    "<b>Month-wise ridership</b>"
   ]
  },
  {
   "cell_type": "code",
   "execution_count": 195,
   "metadata": {},
   "outputs": [
    {
     "data": {
      "image/png": "[encoded data removed]",
      "text/plain": [
       "<matplotlib.figure.Figure at 0x2c4436a0>"
      ]
     },
     "metadata": {},
     "output_type": "display_data"
    }
   ],
   "source": [
    "month_ridership = usage_combine.usetime.dt.month.value_counts()\n",
    "plt.figure(figsize=(12,6))\n",
    "sns.barplot(month_ridership.index, month_ridership.values, alpha=0.8, color=color[3])\n",
    "# plt.xticks(rotation='vertical')\n",
    "plt.xlabel('Month', fontsize=13)\n",
    "plt.ylabel('Ridership', fontsize=13)\n",
    "plt.show()"
   ]
  },
  {
   "cell_type": "markdown",
   "metadata": {},
   "source": [
    "<b>Month-Year vs Ridership</b>"
   ]
  },
  {
   "cell_type": "code",
   "execution_count": 207,
   "metadata": {
    "scrolled": false
   },
   "outputs": [
    {
     "data": {
      "text/plain": [
       "<matplotlib.text.Text at 0x44befef0>"
      ]
     },
     "execution_count": 207,
     "metadata": {},
     "output_type": "execute_result"
    },
    {
     "data": {
      "image/png": "[encoded data removed]",
      "text/plain": [
       "<matplotlib.figure.Figure at 0x3228dc18>"
      ]
     },
     "metadata": {},
     "output_type": "display_data"
    }
   ],
   "source": [
    "year_month_ridership = usage_combine.groupby(['year', 'month']).size().reset_index()\n",
    "year_month_ridership.columns = [u'year', u'month', 'ridership']\n",
    "\n",
    "sns.set(style=\"whitegrid\")\n",
    "\n",
    "# Draw a nested barplot to show month-year wise ridership\n",
    "g = sns.factorplot(x=\"month\", y=\"ridership\", hue=\"year\", data=year_month_ridership,\n",
    "                   size=6, kind=\"bar\", palette=\"muted\")\n",
    "# g.despine(left=True)\n",
    "plt.xlabel('Month', fontsize=13)\n",
    "plt.ylabel('Ridership', fontsize=13)"
   ]
  },
  {
   "cell_type": "markdown",
   "metadata": {},
   "source": [
    "<b>Day of the Week vs Ridership</b>"
   ]
  },
  {
   "cell_type": "code",
   "execution_count": 199,
   "metadata": {
    "scrolled": false
   },
   "outputs": [
    {
     "data": {
      "image/png": "[encoded data removed]",
      "text/plain": [
       "<matplotlib.figure.Figure at 0x25fe86a0>"
      ]
     },
     "metadata": {},
     "output_type": "display_data"
    }
   ],
   "source": [
    "day_of_week_ridership = usage_combine.day_of_week.value_counts()\n",
    "plt.figure(figsize=(12,6))\n",
    "sns.barplot(day_of_week_ridership.index, day_of_week_ridership.values, alpha=0.8, color=color[0])\n",
    "# plt.xticks(rotation='vertical')\n",
    "plt.xlabel('Day of the Week', fontsize=13)\n",
    "plt.ylabel('Ridership', fontsize=13)\n",
    "plt.suptitle('Day of the Week Vs Ridership')\n",
    "plt.title('Monday = 1 ... Sunday = 7')\n",
    "plt.show()"
   ]
  },
  {
   "cell_type": "code",
   "execution_count": 211,
   "metadata": {
    "collapsed": true
   },
   "outputs": [],
   "source": [
    "# plt.figure(figsize=(12,8))\n",
    "# sns.boxplot(x=\"day_of_week\", y=\"logerror\", data=usage_combine)\n",
    "# plt.ylabel('Log error', fontsize=12)\n",
    "# plt.xlabel('Bathroom Count', fontsize=12)\n",
    "# plt.xticks(rotation='vertical')\n",
    "# plt.title(\"How log error changes with bathroom count?\", fontsize=15)\n",
    "# plt.show()"
   ]
  },
  {
   "cell_type": "markdown",
   "metadata": {},
   "source": [
    "<b>Hour of the Day Vs Ridership</b>"
   ]
  },
  {
   "cell_type": "code",
   "execution_count": 210,
   "metadata": {},
   "outputs": [
    {
     "data": {
      "image/png": "[encoded data removed]",
      "text/plain": [
       "<matplotlib.figure.Figure at 0x2ab3f898>"
      ]
     },
     "metadata": {},
     "output_type": "display_data"
    }
   ],
   "source": [
    "hour_of_day_ridership = usage_combine.hour.value_counts()\n",
    "plt.figure(figsize=(12,6))\n",
    "sns.barplot(hour_of_day_ridership.index, hour_of_day_ridership.values, alpha=0.8, color=color[2])\n",
    "# plt.xticks(rotation='vertical')\n",
    "plt.xlabel('Hour of the Day', fontsize=13)\n",
    "plt.ylabel('Ridership', fontsize=13)\n",
    "plt.title('Hour of the Day Vs Ridership')\n",
    "plt.show()"
   ]
  },
  {
   "cell_type": "markdown",
   "metadata": {},
   "source": [
    "<b> Rides vs Ridership Distribution</b>"
   ]
  },
  {
   "cell_type": "code",
   "execution_count": 193,
   "metadata": {
    "scrolled": false
   },
   "outputs": [
    {
     "data": {
      "image/png": "[encoded data removed]",
      "text/plain": [
       "<matplotlib.figure.Figure at 0x1cd2aef0>"
      ]
     },
     "metadata": {},
     "output_type": "display_data"
    }
   ],
   "source": [
    "ride_id_ridership = usage_combine.rideid.value_counts().reset_index()\n",
    "ride_id_ridership.columns = [u'RideID', u'Ridership']\n",
    "ride_ridership = pd.merge(ride_id_ridership, rides_table, on=\"RideID\")\n",
    "\n",
    "sns.set(style=\"darkgrid\")\n",
    "plt.figure(figsize=(12,6))\n",
    "sns.barplot(ride_ridership.Name, ride_id_ridership.Ridership, alpha=0.8, color=color[1])\n",
    "# plt.xticks(rotation='vertical')\n",
    "plt.xlabel('Ride Short Name', fontsize=13)\n",
    "plt.xticks(rotation ='vertical')\n",
    "plt.ylabel('Ridership', fontsize=13)\n",
    "plt.show()"
   ]
  }
 ],
 "metadata": {
  "kernelspec": {
   "display_name": "Python 2",
   "language": "python",
   "name": "python2"
  },
  "language_info": {
   "codemirror_mode": {
    "name": "ipython",
    "version": 2
   },
   "file_extension": ".py",
   "mimetype": "text/x-python",
   "name": "python",
   "nbconvert_exporter": "python",
   "pygments_lexer": "ipython2",
   "version": "2.7.13"
  }
 },
 "nbformat": 4,
 "nbformat_minor": 2
}
